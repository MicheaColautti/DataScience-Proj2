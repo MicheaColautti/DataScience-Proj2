{
 "cells": [
  {
   "cell_type": "markdown",
   "id": "6dd1118a-68cb-4757-a64c-041840ff3078",
   "metadata": {
    "execution": {
     "iopub.execute_input": "2025-05-09T08:28:35.136780Z",
     "iopub.status.busy": "2025-05-09T08:28:35.134950Z",
     "iopub.status.idle": "2025-05-09T08:28:35.141627Z",
     "shell.execute_reply": "2025-05-09T08:28:35.140545Z",
     "shell.execute_reply.started": "2025-05-09T08:28:35.136722Z"
    }
   },
   "source": [
    "# Dataset Analisys\n",
    "\n",
    "> to start, let's import all libraries we'll use, as well as our dataset\n"
   ]
  },
  {
   "cell_type": "markdown",
   "id": "e2b0dfa0",
   "metadata": {},
   "source": [
    "### Import libraries"
   ]
  },
  {
   "cell_type": "code",
   "execution_count": 1,
   "id": "45ef9002",
   "metadata": {},
   "outputs": [],
   "source": [
    "import pandas as pd\n",
    "import json\n",
    "from pathlib import Path\n",
    "import numpy as np\n",
    "import plotly.express as px\n",
    "import plotly.graph_objects as go\n",
    "from plotly.subplots import make_subplots\n",
    "import plotly.io as pio\n",
    "import re\n",
    "import matplotlib.pyplot as plt"
   ]
  },
  {
   "cell_type": "markdown",
   "id": "6d7dcdf9",
   "metadata": {},
   "source": [
    "### Import dataset from JSON"
   ]
  },
  {
   "cell_type": "code",
   "execution_count": 2,
   "id": "54e40edf",
   "metadata": {},
   "outputs": [],
   "source": [
    "JSON_PATH = Path(\"data/raw.json\")\n",
    "\n",
    "# 1. Open JSON\n",
    "with open(JSON_PATH, \"r\", encoding=\"utf-8\") as f:\n",
    "    data = json.load(f)\n",
    "\n",
    "# 2. Proceed only if it's a list of records\n",
    "if isinstance(data, dict):\n",
    "    data = list(data.values())\n",
    "elif not isinstance(data, list):\n",
    "    raise ValueError(\"The JSON file seems to be empty or not a list of records.\")\n",
    "\n",
    "# 3. Convert to DataFrame, normalizing\n",
    "df = pd.json_normalize(data)\n",
    "\n",
    "# 4. Remove empty columns, or columns with all NaN values\n",
    "df.columns = [col.strip() for col in df.columns]\n",
    "df = df.loc[:, ~df.columns.str.fullmatch(r\"Unnamed:.*|^$\")]\n",
    "df = df.dropna(axis=1, how=\"all\")"
   ]
  },
  {
   "cell_type": "markdown",
   "id": "fd327d2a",
   "metadata": {},
   "source": [
    "### General info about the dataset"
   ]
  },
  {
   "cell_type": "code",
   "execution_count": null,
   "id": "9703978e",
   "metadata": {},
   "outputs": [
    {
     "name": "stdout",
     "output_type": "stream",
     "text": [
      "Il dataframe ha 82 colonne.\n",
      "Il dataframe ha 38624 righe.\n",
      "La moto più vecchia è del 1894\n",
      "La moto più recente è del 2021.\n"
     ]
    },
    {
     "data": {
      "text/plain": [
       "Index(['Model', 'Year', 'Category', 'Rating', 'Displacement', 'Engine type',\n",
       "       'Torque', 'Bore x stroke', 'Fuel system', 'Fuel control',\n",
       "       'Cooling system', 'Gearbox', 'Transmission type,final drive',\n",
       "       'Frame type', 'Rake (fork angle)', 'Trail', 'Front suspension',\n",
       "       'Rear suspension', 'Rear wheel travel', 'Front tyre', 'Rear tyre',\n",
       "       'Front brakes', 'Diameter', 'Rear brakes', 'Seat height',\n",
       "       'Ground clearance', 'Wheelbase', 'Fuel capacity', 'Color options',\n",
       "       'Starter', 'Comments', 'Insurance costs', 'Finance options',\n",
       "       'Parts finder', 'Ask questions', 'Related bikes', 'Price',\n",
       "       'Engine details', 'Power', 'Compression', 'Valves per cylinder',\n",
       "       'Ignition', 'Lubrication system', 'Clutch', 'Driveline',\n",
       "       'Fuel consumption', 'Greenhouse gases', 'Emission details',\n",
       "       'Exhaust system', 'Front wheel travel', 'Wheels', 'Dry weight',\n",
       "       'Weight incl. oil, gas, etc', 'Power/weight ratio', 'Overall height',\n",
       "       'Overall length', 'Overall width', 'Factory warranty',\n",
       "       'Reserve fuel capacity', 'Electrical', 'Carrying capacity', 'Top speed',\n",
       "       'Instruments', 'Light', 'Max RPM', 'Dirt-bike parts',\n",
       "       'Alternate seat height', 'Seat', '0-100 km/h (0-62 mph)',\n",
       "       'Oil capacity', 'Motocross parts', 'ATV parts',\n",
       "       'Modifications compared to previous model',\n",
       "       '60-140 km/h (37-87 mph), highest gear', '1/4 mile (0.4 km)',\n",
       "       'Front percentage of weight', 'Rear percentage of weight',\n",
       "       'Displacement_cc', 'Torque_Nm', 'Seat_height_mm', 'Fuel_capacity_l',\n",
       "       'Disp_cat'],\n",
       "      dtype='object')"
      ]
     },
     "metadata": {},
     "output_type": "display_data"
    },
    {
     "data": {
      "text/plain": [
       "0                                    NaN\n",
       "1         95.2 HP (69.5  kW)) @ 8750 RPM\n",
       "2                    28.2 HP (20.6  kW))\n",
       "3        15.0 HP (10.9  kW)) @ 10500 RPM\n",
       "4                                    NaN\n",
       "                      ...               \n",
       "38619        2.5 HP (1.8  kW)) @ 240 RPM\n",
       "38620                  0.5 HP (0.4  kW))\n",
       "38621        2.5 HP (1.8  kW)) @ 240 RPM\n",
       "38622        1.2 HP (0.9  kW)) @ 180 RPM\n",
       "38623        2.5 HP (1.8  kW)) @ 240 RPM\n",
       "Name: Power, Length: 38624, dtype: object"
      ]
     },
     "metadata": {},
     "output_type": "display_data"
    }
   ],
   "source": [
    "print(f\"Il dataframe ha {df.shape[1]} colonne.\")\n",
    "print(f\"Il dataframe ha {df.shape[0]} righe.\")\n",
    "\n",
    "# Rename some columns\n",
    "df = df.rename(columns={\n",
    "    \"Power HP\": \"Power_HP\",\n",
    "    \"Price as new\": \"Price\"\n",
    "})\n",
    "\n",
    "print(f\"La moto più vecchia è del {df['Year'].min()}\")\n",
    "print(f\"La moto più recente è del {df['Year'].max()}.\")\n",
    "\n",
    "\n",
    "display(df.columns)\n",
    "display(df[\"Power\"])\n",
    "#CONVERTIRE POWER IN UN NUMERO DI CAVALLI\n",
    "#CONVERTIRE IL PREZZO SE NECESSARIO"
   ]
  },
  {
   "cell_type": "markdown",
   "id": "d567e8e1",
   "metadata": {},
   "source": [
    "### Define useful functions"
   ]
  },
  {
   "cell_type": "code",
   "execution_count": 4,
   "id": "84415fde",
   "metadata": {},
   "outputs": [],
   "source": [
    "# Convert to numeric\n",
    "def to_float(txt, unit=None):\n",
    "    if pd.isna(txt): return None\n",
    "    m = re.search(r\"[-+]?\\d*\\.?\\d+\", str(txt))\n",
    "    if not m: return None\n",
    "    num = float(m.group())\n",
    "    if unit==\"in_to_mm\":   num *= 25.4\n",
    "    if unit==\"lbft_to_Nm\": num *= 1.35582\n",
    "    return num\n",
    "\n",
    "# We use this function to make the fonts bigger, as well as changing the background color\n",
    "def set_theme(fig, font_size=20, bg_color=\"#141415\", font_color=\"white\", grid_color=\"#333333\"):\n",
    "    fig.update_layout(\n",
    "        paper_bgcolor=bg_color,\n",
    "        plot_bgcolor=bg_color,\n",
    "        font=dict(size=font_size, color=font_color),\n",
    "        xaxis=dict(gridcolor=grid_color, zerolinecolor=grid_color),\n",
    "        yaxis=dict(gridcolor=grid_color, zerolinecolor=grid_color),\n",
    "        legend=dict(bgcolor=\"rgba(0,0,0,0)\")  # Transparent legend background\n",
    "    )\n",
    "    return fig\n"
   ]
  },
  {
   "cell_type": "markdown",
   "id": "2b04936f",
   "metadata": {},
   "source": [
    "### Cleaning of dataset and inizializations"
   ]
  },
  {
   "cell_type": "code",
   "execution_count": null,
   "id": "6254bb68",
   "metadata": {},
   "outputs": [],
   "source": [
    "\n",
    "# Convert certain columns to numeric\n",
    "df[\"Displacement_cc\"]   = df[\"Displacement\"].apply(to_float)\n",
    "df[\"Torque_Nm\"]         = df[\"Torque\"].apply(lambda x: to_float(x, unit=\"lbft_to_Nm\") or to_float(x))\n",
    "df[\"Seat_height_mm\"]    = df[\"Seat height\"].apply(to_float)\n",
    "df[\"Fuel_capacity_l\"]   = df[\"Fuel capacity\"].apply(to_float)\n",
    "\n",
    "# palette & template\n",
    "TEMPLATE = \"presentation\"\n",
    "pio.templates.default = TEMPLATE\n",
    "\n"
   ]
  },
  {
   "cell_type": "markdown",
   "id": "16bccdfd",
   "metadata": {},
   "source": [
    "## Charts\n",
    " > Let's finnally see some charts"
   ]
  },
  {
   "cell_type": "markdown",
   "id": "3e98dca6",
   "metadata": {},
   "source": [
    "### Models by category\n",
    " > Let's see the most common type of motorcycle, leaving out those that appear less in the dataset\n"
   ]
  },
  {
   "cell_type": "code",
   "execution_count": 11,
   "id": "31fc667e",
   "metadata": {},
   "outputs": [
    {
     "data": {
      "application/vnd.plotly.v1+json": {
       "config": {
        "plotlyServerURL": "https://plot.ly"
       },
       "data": [
        {
         "direction": "counterclockwise",
         "domain": {
          "x": [
           0,
           1
          ],
          "y": [
           0,
           1
          ]
         },
         "hole": 0.35,
         "hovertemplate": "Category=%{label}<br>count=%{value}<extra></extra>",
         "labels": [
          "Scooter",
          "Sport",
          "Enduro / offroad",
          "Custom / cruiser",
          "Allround",
          "Naked bike",
          "Classic",
          "Super motard",
          "Touring",
          "Other"
         ],
         "legendgroup": "",
         "name": "",
         "rotation": -61,
         "showlegend": true,
         "sort": false,
         "type": "pie",
         "values": [
          6484,
          5749,
          4172,
          4111,
          3283,
          3268,
          1950,
          1635,
          1635,
          6337
         ]
        }
       ],
       "layout": {
        "font": {
         "color": "white",
         "size": 20
        },
        "legend": {
         "bgcolor": "rgba(0,0,0,0)",
         "tracegroupgap": 0
        },
        "paper_bgcolor": "#141415",
        "piecolorway": [
         "#636EFA",
         "#EF553B",
         "#00CC96",
         "#AB63FA",
         "#FFA15A",
         "gray",
         "gray",
         "gray",
         "gray",
         "white"
        ],
        "plot_bgcolor": "#141415",
        "template": {
         "data": {
          "pie": [
           {
            "automargin": true,
            "type": "pie"
           }
          ],
          "scatter": [
           {
            "line": {
             "width": 3
            },
            "marker": {
             "size": 9
            },
            "type": "scatter"
           }
          ],
          "scatter3d": [
           {
            "line": {
             "width": 3
            },
            "marker": {
             "size": 9
            },
            "type": "scatter3d"
           }
          ],
          "scattergeo": [
           {
            "line": {
             "width": 3
            },
            "marker": {
             "size": 9
            },
            "type": "scattergeo"
           }
          ],
          "scattergl": [
           {
            "line": {
             "width": 3
            },
            "marker": {
             "size": 9
            },
            "type": "scattergl"
           }
          ],
          "scatterpolar": [
           {
            "line": {
             "width": 3
            },
            "marker": {
             "size": 9
            },
            "type": "scatterpolar"
           }
          ],
          "scatterpolargl": [
           {
            "line": {
             "width": 3
            },
            "marker": {
             "size": 9
            },
            "type": "scatterpolargl"
           }
          ],
          "scatterternary": [
           {
            "line": {
             "width": 3
            },
            "marker": {
             "size": 9
            },
            "type": "scatterternary"
           }
          ],
          "table": [
           {
            "cells": {
             "height": 30
            },
            "header": {
             "height": 36
            },
            "type": "table"
           }
          ]
         },
         "layout": {
          "font": {
           "size": 18
          },
          "xaxis": {
           "title": {
            "standoff": 15
           }
          },
          "yaxis": {
           "title": {
            "standoff": 15
           }
          }
         }
        },
        "title": {
         "text": "<b>Models by Type of bike</b>"
        },
        "xaxis": {
         "gridcolor": "#333333",
         "zerolinecolor": "#333333"
        },
        "yaxis": {
         "gridcolor": "#333333",
         "zerolinecolor": "#333333"
        }
       }
      }
     },
     "metadata": {},
     "output_type": "display_data"
    }
   ],
   "source": [
    "# Group by most used, leave the others in \"Other\"\n",
    "df_grouped = df.groupby(\"Category\").size().reset_index(name=\"count\")\n",
    "\n",
    "df_top_types = df_grouped[df_grouped[\"count\"] >= 1500].sort_values(by=\"count\", ascending=False)\n",
    "other_types = df_grouped[df_grouped[\"count\"] < 1500].sum()[\"count\"]\n",
    "\n",
    "# Create a new DataFrame with the top types and the \"Other\" category\n",
    "df_grouped = pd.concat([df_top_types, pd.DataFrame([{'Category': 'Other', 'count': other_types}])], ignore_index=True)\n",
    "\n",
    "# Concat the top types and the \"Other\" category\n",
    "df_pie = pd.concat(\n",
    "    [df_top_types, pd.DataFrame([{\"Category\": \"Other\", \"count\": other_types}])],\n",
    "    ignore_index=True\n",
    ")\n",
    "\n",
    "# Sort the DataFrame by count in descending order\n",
    "ordered_categories = list(df_top_types[\"Category\"]) + [\"Other\"]\n",
    "df_pie[\"Category\"] = pd.Categorical(\n",
    "    df_pie[\"Category\"], categories=ordered_categories, ordered=True\n",
    ")\n",
    "gray_seq = [\"gray\"] + [\"gray\"] + [\"gray\"] + [\"gray\"] + [\"white\"]\n",
    "color_seq = px.colors.qualitative.Plotly[:5] + gray_seq  # bianco per Other\n",
    "\n",
    "\n",
    "# Create the pie chart\n",
    "fig1 = px.pie(\n",
    "    df_pie,\n",
    "    names=\"Category\",\n",
    "    values=\"count\",\n",
    "    title=\"<b>Models by Type of bike</b>\",\n",
    "    hole=0.35,\n",
    "    color_discrete_sequence=color_seq,\n",
    "    category_orders={\"Category\": ordered_categories},\n",
    ")\n",
    "\n",
    "# Rotate the pie chart, make it counterclockwise, don't atutomatically sort\n",
    "fig1.update_traces(\n",
    "    direction=\"counterclockwise\",\n",
    "    sort=False,\n",
    "    rotation=-61\n",
    ")\n",
    "\n",
    "\n",
    "set_theme(fig1).show()"
   ]
  },
  {
   "cell_type": "markdown",
   "id": "2ae5d788",
   "metadata": {},
   "source": [
    "### Counts of bikes per cc\n",
    " > Let's figure out how many bikes were produced per cc category"
   ]
  },
  {
   "cell_type": "code",
   "execution_count": 15,
   "id": "7303368f",
   "metadata": {},
   "outputs": [
    {
     "data": {
      "application/vnd.plotly.v1+json": {
       "config": {
        "plotlyServerURL": "https://plot.ly"
       },
       "data": [
        {
         "alignmentgroup": "True",
         "hovertemplate": "Displacement Range (cc)=%{x}<br>Count=%{y}<br>mode_text=%{text}<extra></extra>",
         "insidetextanchor": "middle",
         "legendgroup": "",
         "marker": {
          "color": "#987434",
          "pattern": {
           "shape": ""
          }
         },
         "name": "",
         "offsetgroup": "",
         "orientation": "v",
         "showlegend": false,
         "text": [
          "Mode: 125",
          "Mode: 249",
          "Mode: 649",
          "Mode: 998",
          "Mode: 1337",
          "Mode: 6200"
         ],
         "textfont": {
          "color": "white",
          "size": 20
         },
         "textposition": "inside",
         "texttemplate": "%{text}",
         "type": "bar",
         "x": [
          "0–125 (A1)",
          "125–400 (A-lim)",
          "400–700 (A)",
          "700–1000 (A)",
          "1000-2000 (A)",
          "2000+ (A)"
         ],
         "xaxis": "x",
         "y": [
          9898,
          9331,
          6681,
          5766,
          5852,
          249
         ],
         "yaxis": "y"
        }
       ],
       "layout": {
        "barmode": "relative",
        "font": {
         "color": "white",
         "size": 20
        },
        "height": 650,
        "legend": {
         "bgcolor": "rgba(0,0,0,0)",
         "tracegroupgap": 0
        },
        "paper_bgcolor": "#141415",
        "plot_bgcolor": "#141415",
        "template": {
         "data": {
          "pie": [
           {
            "automargin": true,
            "type": "pie"
           }
          ],
          "scatter": [
           {
            "line": {
             "width": 3
            },
            "marker": {
             "size": 9
            },
            "type": "scatter"
           }
          ],
          "scatter3d": [
           {
            "line": {
             "width": 3
            },
            "marker": {
             "size": 9
            },
            "type": "scatter3d"
           }
          ],
          "scattergeo": [
           {
            "line": {
             "width": 3
            },
            "marker": {
             "size": 9
            },
            "type": "scattergeo"
           }
          ],
          "scattergl": [
           {
            "line": {
             "width": 3
            },
            "marker": {
             "size": 9
            },
            "type": "scattergl"
           }
          ],
          "scatterpolar": [
           {
            "line": {
             "width": 3
            },
            "marker": {
             "size": 9
            },
            "type": "scatterpolar"
           }
          ],
          "scatterpolargl": [
           {
            "line": {
             "width": 3
            },
            "marker": {
             "size": 9
            },
            "type": "scatterpolargl"
           }
          ],
          "scatterternary": [
           {
            "line": {
             "width": 3
            },
            "marker": {
             "size": 9
            },
            "type": "scatterternary"
           }
          ],
          "table": [
           {
            "cells": {
             "height": 30
            },
            "header": {
             "height": 36
            },
            "type": "table"
           }
          ]
         },
         "layout": {
          "font": {
           "size": 18
          },
          "xaxis": {
           "title": {
            "standoff": 15
           }
          },
          "yaxis": {
           "title": {
            "standoff": 15
           }
          }
         }
        },
        "title": {
         "text": "<b>Count of Models by CC</b>"
        },
        "xaxis": {
         "anchor": "y",
         "categoryarray": [
          "0–125 (A1)",
          "125–400 (A-lim)",
          "400–700 (A)",
          "700–1000 (A)",
          "1000-2000 (A)",
          "2000+ (A)"
         ],
         "categoryorder": "array",
         "domain": [
          0,
          1
         ],
         "gridcolor": "#333333",
         "title": {
          "text": "Displacement Range (cc)"
         },
         "zerolinecolor": "#333333"
        },
        "yaxis": {
         "anchor": "x",
         "domain": [
          0,
          1
         ],
         "gridcolor": "#333333",
         "title": {
          "text": "Count"
         },
         "zerolinecolor": "#333333"
        }
       }
      }
     },
     "metadata": {},
     "output_type": "display_data"
    }
   ],
   "source": [
    "bins   = [0, 125, 400, 700, 1000, 2000, np.inf]\n",
    "labels = [\"0–125 (A1)\", \"125–400 (A-lim)\", \"400–700 (A)\", \n",
    "          \"700–1000 (A)\", \"1000-2000 (A)\", \"2000+ (A)\"]\n",
    "\n",
    "# A new column with the categories in which every model falls\n",
    "df[\"Disp_cat\"] = pd.cut(df[\"Displacement_cc\"], bins=bins, labels=labels, right=True)\n",
    "\n",
    "# For each category, we calculate the count and the mode            \n",
    "count_df  = (df[\"Disp_cat\"]\n",
    "             .value_counts()\n",
    "             .reindex(labels)\n",
    "             .rename(\"Count\")\n",
    "             .reset_index()\n",
    "             .rename(columns={\"Disp_cat\": \"Displacement Range (cc)\"}))\n",
    "\n",
    "# Calulates the mode for each category\n",
    "mode_df = (\n",
    "    df.groupby(\"Disp_cat\", observed=False)[\"Displacement_cc\"]\n",
    "    .agg(lambda x: x.mode().iloc[0] if not x.mode().empty else np.nan)\n",
    "    .reindex(labels)\n",
    "    .reset_index()\n",
    "    .rename(columns={\n",
    "        \"Disp_cat\": \"Displacement Range (cc)\",\n",
    "        \"Displacement_cc\": \"mode_cc\"\n",
    "    })\n",
    ")\n",
    "\n",
    "# Merge the two DataFrames\n",
    "disp_summary = count_df.merge(mode_df, on=\"Displacement Range (cc)\")\n",
    "# Display the mode in a more readable format\n",
    "disp_summary[\"mode_text\"] = \"Mode: \" + disp_summary[\"mode_cc\"].round(0).astype(int).astype(str)\n",
    "\n",
    "\n",
    "fig2 = px.bar(\n",
    "    disp_summary,\n",
    "    x=\"Displacement Range (cc)\",\n",
    "    y=\"Count\",\n",
    "    #This will show the mode on the bar\n",
    "    text=\"mode_text\",\n",
    "\n",
    "    title=\"<b>Count of Models by CC</b>\",\n",
    "    color_discrete_sequence=[\"#987434\"],\n",
    "    height=650\n",
    ")\n",
    "\n",
    "fig2.update_xaxes(categoryorder=\"array\", categoryarray=labels)\n",
    "\n",
    "fig2.update_traces(\n",
    "    texttemplate=\"%{text}\", \n",
    "    textposition=\"inside\",\n",
    "    insidetextanchor=\"middle\", \n",
    "    textfont=dict(color=\"white\", size=20)\n",
    ")\n",
    "\n",
    "\n",
    "\n",
    "set_theme(fig2).show()\n"
   ]
  },
  {
   "cell_type": "markdown",
   "id": "b4022414",
   "metadata": {},
   "source": [
    "### Price related to a lot of stuff"
   ]
  },
  {
   "cell_type": "code",
   "execution_count": 17,
   "id": "bad083ba",
   "metadata": {},
   "outputs": [
    {
     "ename": "KeyError",
     "evalue": "'Price_EUR'",
     "output_type": "error",
     "traceback": [
      "\u001b[1;31m---------------------------------------------------------------------------\u001b[0m",
      "\u001b[1;31mKeyError\u001b[0m                                  Traceback (most recent call last)",
      "File \u001b[1;32mc:\\Users\\julic\\anaconda3\\Lib\\site-packages\\pandas\\core\\indexes\\base.py:3805\u001b[0m, in \u001b[0;36mIndex.get_loc\u001b[1;34m(self, key)\u001b[0m\n\u001b[0;32m   3804\u001b[0m \u001b[38;5;28;01mtry\u001b[39;00m:\n\u001b[1;32m-> 3805\u001b[0m     \u001b[38;5;28;01mreturn\u001b[39;00m \u001b[38;5;28mself\u001b[39m\u001b[38;5;241m.\u001b[39m_engine\u001b[38;5;241m.\u001b[39mget_loc(casted_key)\n\u001b[0;32m   3806\u001b[0m \u001b[38;5;28;01mexcept\u001b[39;00m \u001b[38;5;167;01mKeyError\u001b[39;00m \u001b[38;5;28;01mas\u001b[39;00m err:\n",
      "File \u001b[1;32mindex.pyx:167\u001b[0m, in \u001b[0;36mpandas._libs.index.IndexEngine.get_loc\u001b[1;34m()\u001b[0m\n",
      "File \u001b[1;32mindex.pyx:196\u001b[0m, in \u001b[0;36mpandas._libs.index.IndexEngine.get_loc\u001b[1;34m()\u001b[0m\n",
      "File \u001b[1;32mpandas\\\\_libs\\\\hashtable_class_helper.pxi:7081\u001b[0m, in \u001b[0;36mpandas._libs.hashtable.PyObjectHashTable.get_item\u001b[1;34m()\u001b[0m\n",
      "File \u001b[1;32mpandas\\\\_libs\\\\hashtable_class_helper.pxi:7089\u001b[0m, in \u001b[0;36mpandas._libs.hashtable.PyObjectHashTable.get_item\u001b[1;34m()\u001b[0m\n",
      "\u001b[1;31mKeyError\u001b[0m: 'Price_EUR'",
      "\nThe above exception was the direct cause of the following exception:\n",
      "\u001b[1;31mKeyError\u001b[0m                                  Traceback (most recent call last)",
      "Cell \u001b[1;32mIn[17], line 8\u001b[0m\n\u001b[0;32m      1\u001b[0m \u001b[38;5;66;03m# anno come x, prezzo come grandezza, y come cc, colore power\u001b[39;00m\n\u001b[0;32m      3\u001b[0m plt\u001b[38;5;241m.\u001b[39mfigure(figsize\u001b[38;5;241m=\u001b[39m(\u001b[38;5;241m20\u001b[39m, \u001b[38;5;241m15\u001b[39m))\n\u001b[0;32m      4\u001b[0m plt\u001b[38;5;241m.\u001b[39mscatter(\n\u001b[0;32m      5\u001b[0m     df[\u001b[38;5;124m\"\u001b[39m\u001b[38;5;124mYear\u001b[39m\u001b[38;5;124m\"\u001b[39m],\n\u001b[0;32m      6\u001b[0m     df[\u001b[38;5;124m\"\u001b[39m\u001b[38;5;124mDisplacement_cc\u001b[39m\u001b[38;5;124m\"\u001b[39m],\n\u001b[0;32m      7\u001b[0m     c\u001b[38;5;241m=\u001b[39mdf[\u001b[38;5;124m\"\u001b[39m\u001b[38;5;124mPower\u001b[39m\u001b[38;5;124m\"\u001b[39m],\n\u001b[1;32m----> 8\u001b[0m     s\u001b[38;5;241m=\u001b[39mdf[\u001b[38;5;124m\"\u001b[39m\u001b[38;5;124mPrice_EUR\u001b[39m\u001b[38;5;124m\"\u001b[39m],\n\u001b[0;32m      9\u001b[0m     alpha\u001b[38;5;241m=\u001b[39m\u001b[38;5;241m0.3\u001b[39m, \n\u001b[0;32m     10\u001b[0m     cmap\u001b[38;5;241m=\u001b[39m\u001b[38;5;124m'\u001b[39m\u001b[38;5;124mviridis\u001b[39m\u001b[38;5;124m'\u001b[39m, \n\u001b[0;32m     11\u001b[0m     edgecolors\u001b[38;5;241m=\u001b[39m\u001b[38;5;124m'\u001b[39m\u001b[38;5;124mk\u001b[39m\u001b[38;5;124m'\u001b[39m\n\u001b[0;32m     12\u001b[0m     \n\u001b[0;32m     13\u001b[0m     )\n\u001b[0;32m     14\u001b[0m plt\u001b[38;5;241m.\u001b[39mxlabel(\u001b[38;5;124m'\u001b[39m\u001b[38;5;124mYears\u001b[39m\u001b[38;5;124m'\u001b[39m)\n\u001b[0;32m     15\u001b[0m plt\u001b[38;5;241m.\u001b[39mylabel(\u001b[38;5;124m'\u001b[39m\u001b[38;5;124mCC\u001b[39m\u001b[38;5;124m'\u001b[39m)\n",
      "File \u001b[1;32mc:\\Users\\julic\\anaconda3\\Lib\\site-packages\\pandas\\core\\frame.py:4102\u001b[0m, in \u001b[0;36mDataFrame.__getitem__\u001b[1;34m(self, key)\u001b[0m\n\u001b[0;32m   4100\u001b[0m \u001b[38;5;28;01mif\u001b[39;00m \u001b[38;5;28mself\u001b[39m\u001b[38;5;241m.\u001b[39mcolumns\u001b[38;5;241m.\u001b[39mnlevels \u001b[38;5;241m>\u001b[39m \u001b[38;5;241m1\u001b[39m:\n\u001b[0;32m   4101\u001b[0m     \u001b[38;5;28;01mreturn\u001b[39;00m \u001b[38;5;28mself\u001b[39m\u001b[38;5;241m.\u001b[39m_getitem_multilevel(key)\n\u001b[1;32m-> 4102\u001b[0m indexer \u001b[38;5;241m=\u001b[39m \u001b[38;5;28mself\u001b[39m\u001b[38;5;241m.\u001b[39mcolumns\u001b[38;5;241m.\u001b[39mget_loc(key)\n\u001b[0;32m   4103\u001b[0m \u001b[38;5;28;01mif\u001b[39;00m is_integer(indexer):\n\u001b[0;32m   4104\u001b[0m     indexer \u001b[38;5;241m=\u001b[39m [indexer]\n",
      "File \u001b[1;32mc:\\Users\\julic\\anaconda3\\Lib\\site-packages\\pandas\\core\\indexes\\base.py:3812\u001b[0m, in \u001b[0;36mIndex.get_loc\u001b[1;34m(self, key)\u001b[0m\n\u001b[0;32m   3807\u001b[0m     \u001b[38;5;28;01mif\u001b[39;00m \u001b[38;5;28misinstance\u001b[39m(casted_key, \u001b[38;5;28mslice\u001b[39m) \u001b[38;5;129;01mor\u001b[39;00m (\n\u001b[0;32m   3808\u001b[0m         \u001b[38;5;28misinstance\u001b[39m(casted_key, abc\u001b[38;5;241m.\u001b[39mIterable)\n\u001b[0;32m   3809\u001b[0m         \u001b[38;5;129;01mand\u001b[39;00m \u001b[38;5;28many\u001b[39m(\u001b[38;5;28misinstance\u001b[39m(x, \u001b[38;5;28mslice\u001b[39m) \u001b[38;5;28;01mfor\u001b[39;00m x \u001b[38;5;129;01min\u001b[39;00m casted_key)\n\u001b[0;32m   3810\u001b[0m     ):\n\u001b[0;32m   3811\u001b[0m         \u001b[38;5;28;01mraise\u001b[39;00m InvalidIndexError(key)\n\u001b[1;32m-> 3812\u001b[0m     \u001b[38;5;28;01mraise\u001b[39;00m \u001b[38;5;167;01mKeyError\u001b[39;00m(key) \u001b[38;5;28;01mfrom\u001b[39;00m \u001b[38;5;21;01merr\u001b[39;00m\n\u001b[0;32m   3813\u001b[0m \u001b[38;5;28;01mexcept\u001b[39;00m \u001b[38;5;167;01mTypeError\u001b[39;00m:\n\u001b[0;32m   3814\u001b[0m     \u001b[38;5;66;03m# If we have a listlike key, _check_indexing_error will raise\u001b[39;00m\n\u001b[0;32m   3815\u001b[0m     \u001b[38;5;66;03m#  InvalidIndexError. Otherwise we fall through and re-raise\u001b[39;00m\n\u001b[0;32m   3816\u001b[0m     \u001b[38;5;66;03m#  the TypeError.\u001b[39;00m\n\u001b[0;32m   3817\u001b[0m     \u001b[38;5;28mself\u001b[39m\u001b[38;5;241m.\u001b[39m_check_indexing_error(key)\n",
      "\u001b[1;31mKeyError\u001b[0m: 'Price_EUR'"
     ]
    },
    {
     "data": {
      "text/plain": [
       "<Figure size 2000x1500 with 0 Axes>"
      ]
     },
     "metadata": {},
     "output_type": "display_data"
    }
   ],
   "source": [
    "# anno come x, prezzo come grandezza, y come cc, colore power\n",
    "\n",
    "plt.figure(figsize=(20, 15))\n",
    "plt.scatter(\n",
    "    df[\"Year\"],\n",
    "    df[\"Displacement_cc\"],\n",
    "    c=df[\"Power\"],\n",
    "    s=df[\"Price_EUR\"],\n",
    "    alpha=0.3, \n",
    "    cmap='viridis', \n",
    "    edgecolors='k'\n",
    "    \n",
    "    )\n",
    "plt.xlabel('Years')\n",
    "plt.ylabel('CC')\n",
    "plt.title('Blood Pressure vs. Heart Rate')\n",
    "plt.colorbar()"
   ]
  },
  {
   "cell_type": "markdown",
   "id": "aa910868",
   "metadata": {},
   "source": []
  }
 ],
 "metadata": {
  "kernelspec": {
   "display_name": "base",
   "language": "python",
   "name": "python3"
  },
  "language_info": {
   "codemirror_mode": {
    "name": "ipython",
    "version": 3
   },
   "file_extension": ".py",
   "mimetype": "text/x-python",
   "name": "python",
   "nbconvert_exporter": "python",
   "pygments_lexer": "ipython3",
   "version": "3.12.7"
  }
 },
 "nbformat": 4,
 "nbformat_minor": 5
}
