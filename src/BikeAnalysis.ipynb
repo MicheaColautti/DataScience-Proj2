{
 "cells": [
  {
   "cell_type": "markdown",
   "id": "6dd1118a-68cb-4757-a64c-041840ff3078",
   "metadata": {
    "execution": {
     "iopub.execute_input": "2025-05-09T08:28:35.136780Z",
     "iopub.status.busy": "2025-05-09T08:28:35.134950Z",
     "iopub.status.idle": "2025-05-09T08:28:35.141627Z",
     "shell.execute_reply": "2025-05-09T08:28:35.140545Z",
     "shell.execute_reply.started": "2025-05-09T08:28:35.136722Z"
    }
   },
   "source": [
    "# Dataset Analisys\n",
    "\n",
    "> to start, let's import all libraries we'll use, as well as our dataset\n"
   ]
  },
  {
   "cell_type": "markdown",
   "id": "e2b0dfa0",
   "metadata": {},
   "source": [
    "### Import libraries"
   ]
  },
  {
   "cell_type": "code",
   "execution_count": 1,
   "id": "45ef9002",
   "metadata": {},
   "outputs": [],
   "source": [
    "import pandas as pd\n",
    "import json\n",
    "from pathlib import Path\n",
    "import numpy as np\n",
    "import plotly.express as px\n",
    "import plotly.graph_objects as go\n",
    "from plotly.subplots import make_subplots\n",
    "import plotly.io as pio\n",
    "import re\n"
   ]
  },
  {
   "cell_type": "markdown",
   "id": "6d7dcdf9",
   "metadata": {},
   "source": [
    "### Import dataset from JSON"
   ]
  },
  {
   "cell_type": "code",
   "execution_count": 2,
   "id": "54e40edf",
   "metadata": {},
   "outputs": [],
   "source": [
    "JSON_PATH = Path(\"data/raw.json\")\n",
    "\n",
    "# 1. Open JSON\n",
    "with open(JSON_PATH, \"r\", encoding=\"utf-8\") as f:\n",
    "    data = json.load(f)\n",
    "\n",
    "# 2. Proceed only if it's a list of records\n",
    "if isinstance(data, dict):\n",
    "    data = list(data.values())\n",
    "elif not isinstance(data, list):\n",
    "    raise ValueError(\"The JSON file seems to be empty or not a list of records.\")\n",
    "\n",
    "# 3. Convert to DataFrame, normalizing\n",
    "df = pd.json_normalize(data)\n",
    "\n",
    "# 4. Remove empty columns, or columns with all NaN values\n",
    "df.columns = [col.strip() for col in df.columns]\n",
    "df = df.loc[:, ~df.columns.str.fullmatch(r\"Unnamed:.*|^$\")]\n",
    "df = df.dropna(axis=1, how=\"all\")"
   ]
  },
  {
   "cell_type": "markdown",
   "id": "fd327d2a",
   "metadata": {},
   "source": [
    "### General info about the dataset"
   ]
  },
  {
   "cell_type": "code",
   "execution_count": 3,
   "id": "9703978e",
   "metadata": {},
   "outputs": [
    {
     "name": "stdout",
     "output_type": "stream",
     "text": [
      "Il dataframe ha 77 colonne.\n",
      "Il dataframe ha 38624 righe.\n"
     ]
    }
   ],
   "source": [
    "print(f\"Il dataframe ha {df.shape[1]} colonne.\")\n",
    "print(f\"Il dataframe ha {df.shape[0]} righe.\")\n",
    "\n",
    "# Rename some columns\n",
    "df = df.rename(columns={\n",
    "    \"Power HP\": \"Power_HP\",\n",
    "    \"Price as new Euros\": \"Price_EUR\"\n",
    "})"
   ]
  },
  {
   "cell_type": "markdown",
   "id": "d567e8e1",
   "metadata": {},
   "source": [
    "### Define useful functions"
   ]
  },
  {
   "cell_type": "code",
   "execution_count": 4,
   "id": "84415fde",
   "metadata": {},
   "outputs": [],
   "source": [
    "# Convert to numeric\n",
    "def to_float(txt, unit=None):\n",
    "    if pd.isna(txt): return None\n",
    "    m = re.search(r\"[-+]?\\d*\\.?\\d+\", str(txt))\n",
    "    if not m: return None\n",
    "    num = float(m.group())\n",
    "    if unit==\"in_to_mm\":   num *= 25.4\n",
    "    if unit==\"lbft_to_Nm\": num *= 1.35582\n",
    "    return num\n",
    "\n",
    "# We use this function to make the fonts bigger, as well as changing the background color\n",
    "def set_theme(fig, font_size=20, bg_color=\"#141415\", font_color=\"white\", grid_color=\"#333333\"):\n",
    "    fig.update_layout(\n",
    "        paper_bgcolor=bg_color,\n",
    "        plot_bgcolor=bg_color,\n",
    "        font=dict(size=font_size, color=font_color),\n",
    "        xaxis=dict(gridcolor=grid_color, zerolinecolor=grid_color),\n",
    "        yaxis=dict(gridcolor=grid_color, zerolinecolor=grid_color),\n",
    "        legend=dict(bgcolor=\"rgba(0,0,0,0)\")  # Transparent legend background\n",
    "    )\n",
    "    return fig\n"
   ]
  },
  {
   "cell_type": "markdown",
   "id": "2b04936f",
   "metadata": {},
   "source": [
    "### Last cleaning of the dataset"
   ]
  },
  {
   "cell_type": "code",
   "execution_count": 5,
   "id": "6254bb68",
   "metadata": {},
   "outputs": [],
   "source": [
    "\n",
    "# Convert certain columns to numeric\n",
    "df[\"Displacement_cc\"]   = df[\"Displacement\"].apply(to_float)\n",
    "df[\"Torque_Nm\"]         = df[\"Torque\"].apply(lambda x: to_float(x, unit=\"lbft_to_Nm\") or to_float(x))\n",
    "df[\"Seat_height_mm\"]    = df[\"Seat height\"].apply(to_float)\n",
    "df[\"Fuel_capacity_l\"]   = df[\"Fuel capacity\"].apply(to_float)\n",
    "\n",
    "# palette & template\n",
    "TEMPLATE = \"presentation\"\n",
    "pio.templates.default = TEMPLATE"
   ]
  },
  {
   "cell_type": "markdown",
   "id": "16bccdfd",
   "metadata": {},
   "source": [
    "## Charts\n",
    " > Let's finnally see some charts"
   ]
  },
  {
   "cell_type": "markdown",
   "id": "3e98dca6",
   "metadata": {},
   "source": [
    "### Models by category\n",
    " > Let's see the most common type of motorcycle, leaving out those that appear less in the dataset\n"
   ]
  },
  {
   "cell_type": "code",
   "execution_count": 6,
   "id": "31fc667e",
   "metadata": {},
   "outputs": [
    {
     "data": {
      "application/vnd.plotly.v1+json": {
       "config": {
        "plotlyServerURL": "https://plot.ly"
       },
       "data": [
        {
         "direction": "counterclockwise",
         "domain": {
          "x": [
           0,
           1
          ],
          "y": [
           0,
           1
          ]
         },
         "hole": 0.35,
         "hovertemplate": "Category=%{label}<br>count=%{value}<extra></extra>",
         "labels": [
          "Scooter",
          "Sport",
          "Enduro / offroad",
          "Custom / cruiser",
          "Allround",
          "Naked bike",
          "Classic",
          "Super motard",
          "Touring",
          "Other"
         ],
         "legendgroup": "",
         "name": "",
         "rotation": -60,
         "showlegend": true,
         "sort": false,
         "type": "pie",
         "values": [
          6484,
          5749,
          4172,
          4111,
          3283,
          3268,
          1950,
          1635,
          1635,
          6337
         ]
        }
       ],
       "layout": {
        "font": {
         "color": "white",
         "size": 20
        },
        "legend": {
         "bgcolor": "rgba(0,0,0,0)",
         "tracegroupgap": 0
        },
        "paper_bgcolor": "#141415",
        "piecolorway": [
         "#636EFA",
         "#EF553B",
         "#00CC96",
         "#AB63FA",
         "#FFA15A",
         "#19D3F3",
         "#FF6692",
         "#B6E880",
         "#FF97FF",
         "white"
        ],
        "plot_bgcolor": "#141415",
        "template": {
         "data": {
          "pie": [
           {
            "automargin": true,
            "type": "pie"
           }
          ],
          "scatter": [
           {
            "line": {
             "width": 3
            },
            "marker": {
             "size": 9
            },
            "type": "scatter"
           }
          ],
          "scatter3d": [
           {
            "line": {
             "width": 3
            },
            "marker": {
             "size": 9
            },
            "type": "scatter3d"
           }
          ],
          "scattergeo": [
           {
            "line": {
             "width": 3
            },
            "marker": {
             "size": 9
            },
            "type": "scattergeo"
           }
          ],
          "scattergl": [
           {
            "line": {
             "width": 3
            },
            "marker": {
             "size": 9
            },
            "type": "scattergl"
           }
          ],
          "scatterpolar": [
           {
            "line": {
             "width": 3
            },
            "marker": {
             "size": 9
            },
            "type": "scatterpolar"
           }
          ],
          "scatterpolargl": [
           {
            "line": {
             "width": 3
            },
            "marker": {
             "size": 9
            },
            "type": "scatterpolargl"
           }
          ],
          "scatterternary": [
           {
            "line": {
             "width": 3
            },
            "marker": {
             "size": 9
            },
            "type": "scatterternary"
           }
          ],
          "table": [
           {
            "cells": {
             "height": 30
            },
            "header": {
             "height": 36
            },
            "type": "table"
           }
          ]
         },
         "layout": {
          "font": {
           "size": 18
          },
          "xaxis": {
           "title": {
            "standoff": 15
           }
          },
          "yaxis": {
           "title": {
            "standoff": 15
           }
          }
         }
        },
        "title": {
         "text": "<b>Models by Type of bike</b>"
        },
        "xaxis": {
         "gridcolor": "#333333",
         "zerolinecolor": "#333333"
        },
        "yaxis": {
         "gridcolor": "#333333",
         "zerolinecolor": "#333333"
        }
       }
      }
     },
     "metadata": {},
     "output_type": "display_data"
    }
   ],
   "source": [
    "# Group by most used, leave the others in \"Other\"\n",
    "df_grouped = df.groupby(\"Category\").size().reset_index(name=\"count\")\n",
    "\n",
    "df_top_types = df_grouped[df_grouped[\"count\"] >= 1500].sort_values(by=\"count\", ascending=False)\n",
    "other_types = df_grouped[df_grouped[\"count\"] < 1500].sum()[\"count\"]\n",
    "\n",
    "# Create a new DataFrame with the top types and the \"Other\" category\n",
    "df_grouped = pd.concat([df_top_types, pd.DataFrame([{'Category': 'Other', 'count': other_types}])], ignore_index=True)\n",
    "\n",
    "# Concat the top types and the \"Other\" category\n",
    "df_pie = pd.concat(\n",
    "    [df_top_types, pd.DataFrame([{\"Category\": \"Other\", \"count\": other_types}])],\n",
    "    ignore_index=True\n",
    ")\n",
    "\n",
    "# Sort the DataFrame by count in descending order\n",
    "ordered_categories = list(df_top_types[\"Category\"]) + [\"Other\"]\n",
    "df_pie[\"Category\"] = pd.Categorical(\n",
    "    df_pie[\"Category\"], categories=ordered_categories, ordered=True\n",
    ")\n",
    "\n",
    "color_seq = px.colors.qualitative.Plotly[:9] + [\"white\"]  # bianco per Other\n",
    "\n",
    "\n",
    "# Create the pie chart\n",
    "fig1 = px.pie(\n",
    "    df_pie,\n",
    "    names=\"Category\",\n",
    "    values=\"count\",\n",
    "    title=\"<b>Models by Type of bike</b>\",\n",
    "    hole=0.35,\n",
    "    color_discrete_sequence=color_seq,\n",
    "    category_orders={\"Category\": ordered_categories},\n",
    ")\n",
    "\n",
    "# Rotate the pie chart, make it counterclockwise, don't atutomatically sort\n",
    "fig1.update_traces(\n",
    "    direction=\"counterclockwise\",\n",
    "    sort=False,\n",
    "    rotation=-60\n",
    ")\n",
    "\n",
    "\n",
    "set_theme(fig1).show()"
   ]
  }
 ],
 "metadata": {
  "kernelspec": {
   "display_name": "base",
   "language": "python",
   "name": "python3"
  },
  "language_info": {
   "codemirror_mode": {
    "name": "ipython",
    "version": 3
   },
   "file_extension": ".py",
   "mimetype": "text/x-python",
   "name": "python",
   "nbconvert_exporter": "python",
   "pygments_lexer": "ipython3",
   "version": "3.12.7"
  }
 },
 "nbformat": 4,
 "nbformat_minor": 5
}
