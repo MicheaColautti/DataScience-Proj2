{
 "cells": [
  {
   "cell_type": "markdown",
   "id": "6dd1118a-68cb-4757-a64c-041840ff3078",
   "metadata": {
    "execution": {
     "iopub.execute_input": "2025-05-09T08:28:35.136780Z",
     "iopub.status.busy": "2025-05-09T08:28:35.134950Z",
     "iopub.status.idle": "2025-05-09T08:28:35.141627Z",
     "shell.execute_reply": "2025-05-09T08:28:35.140545Z",
     "shell.execute_reply.started": "2025-05-09T08:28:35.136722Z"
    }
   },
   "source": [
    "# Dataset Analisys\n",
    "\n",
    "> to start, let's import all libraries we'll use, as well as our dataset\n"
   ]
  },
  {
   "cell_type": "code",
   "execution_count": null,
   "id": "54e40edf",
   "metadata": {},
   "outputs": [
    {
     "name": "stdout",
     "output_type": "stream",
     "text": [
      "\n",
      "📌 Anteprima:\n",
      "                        Model  Year      Category  \\\n",
      "0                     AJP PR7  2021         Sport   \n",
      "1       Aprilia Dorsoduro 900  2021  Super motard   \n",
      "2              Aprilia RS 125  2021         Sport   \n",
      "3  Aprilia RS 125 GP Replica   2021         Sport   \n",
      "4               Aprilia RS 50  2021         Sport   \n",
      "\n",
      "                                              Rating  \\\n",
      "0  Do you know this bike?Click here to rate it. W...   \n",
      "1  Do you know this bike?Click here to rate it. W...   \n",
      "2  Do you know this bike?Click here to rate it. W...   \n",
      "3  Do you know this bike?Click here to rate it. W...   \n",
      "4  Do you know this bike?Click here to rate it. W...   \n",
      "\n",
      "                     Displacement                   Engine type  \\\n",
      "0  600.0 ccm (36.61 cubic inches)  Single cylinder, four-stroke   \n",
      "1  896.1 ccm (54.68 cubic inches)               V2, four-stroke   \n",
      "2   124.2 ccm (7.58 cubic inches)  Single cylinder, four-stroke   \n",
      "3   124.2 ccm (7.58 cubic inches)  Single cylinder, four-stroke   \n",
      "4    50.0 ccm (3.05 cubic inches)   Single cylinder, two-stroke   \n",
      "\n",
      "                                          Torque  \\\n",
      "0             58.0 Nm (5.9 kgf-m or 42.8 ft.lbs)   \n",
      "1  90.0 Nm (9.2 kgf-m or 66.4 ft.lbs) @ 6500 RPM   \n",
      "2                                            NaN   \n",
      "3   10.9 Nm (1.1 kgf-m or 8.0 ft.lbs) @ 8250 RPM   \n",
      "4                                            NaN   \n",
      "\n",
      "                        Bore x stroke  \\\n",
      "0  100.0 x 76.4 mm (3.9 x 3.0 inches)   \n",
      "1   92.0 x 67.4 mm (3.6 x 2.7 inches)   \n",
      "2   58.0 x 47.0 mm (2.3 x 1.9 inches)   \n",
      "3   58.0 x 47.0 mm (2.3 x 1.9 inches)   \n",
      "4   39.9 x 40.0 mm (1.6 x 1.6 inches)   \n",
      "\n",
      "                                         Fuel system  \\\n",
      "0                                  Injection. Mikuni   \n",
      "1  Injection. Integrated engine management system...   \n",
      "2        Carburettor. Magneti Marelli M3G ø 32mm ECU   \n",
      "3          Injection. Magneti Marelli M3G ø 32mm ECU   \n",
      "4                  Carburettor. Dell’Orto PHVA - Ø14   \n",
      "\n",
      "                           Fuel control  ... Seat 0-100 km/h (0-62 mph)  \\\n",
      "0  Double Overhead Cams/Twin Cam (DOHC)  ...  NaN                   NaN   \n",
      "1  Double Overhead Cams/Twin Cam (DOHC)  ...  NaN                   NaN   \n",
      "2  Double Overhead Cams/Twin Cam (DOHC)  ...  NaN                   NaN   \n",
      "3  Double Overhead Cams/Twin Cam (DOHC)  ...  NaN                   NaN   \n",
      "4                                   NaN  ...  NaN                   NaN   \n",
      "\n",
      "  Oil capacity Motocross parts ATV parts  \\\n",
      "0          NaN             NaN       NaN   \n",
      "1          NaN             NaN       NaN   \n",
      "2          NaN             NaN       NaN   \n",
      "3          NaN             NaN       NaN   \n",
      "4          NaN             NaN       NaN   \n",
      "\n",
      "  Modifications compared to previous model  \\\n",
      "0                                      NaN   \n",
      "1                                      NaN   \n",
      "2                                      NaN   \n",
      "3                                      NaN   \n",
      "4                                      NaN   \n",
      "\n",
      "  60-140 km/h (37-87 mph), highest gear 1/4 mile (0.4 km)  \\\n",
      "0                                   NaN               NaN   \n",
      "1                                   NaN               NaN   \n",
      "2                                   NaN               NaN   \n",
      "3                                   NaN               NaN   \n",
      "4                                   NaN               NaN   \n",
      "\n",
      "  Front percentage of weight Rear percentage of weight  \n",
      "0                        NaN                       NaN  \n",
      "1                        NaN                       NaN  \n",
      "2                        NaN                       NaN  \n",
      "3                        NaN                       NaN  \n",
      "4                        NaN                       NaN  \n",
      "\n",
      "[5 rows x 77 columns]\n",
      "\n",
      "📌 Funziona? pls\n",
      "Il dataframe ha 77 colonne.\n",
      "Il dataframe ha 38624 righe.\n"
     ]
    },
    {
     "ename": "NameError",
     "evalue": "name 'px' is not defined",
     "output_type": "error",
     "traceback": [
      "\u001b[0;31m---------------------------------------------------------------------------\u001b[0m",
      "\u001b[0;31mNameError\u001b[0m                                 Traceback (most recent call last)",
      "Cell \u001b[0;32mIn[3], line 38\u001b[0m\n\u001b[1;32m     33\u001b[0m \u001b[38;5;28mprint\u001b[39m(\u001b[38;5;124mf\u001b[39m\u001b[38;5;124m\"\u001b[39m\u001b[38;5;124mIl dataframe ha \u001b[39m\u001b[38;5;132;01m{\u001b[39;00mdf\u001b[38;5;241m.\u001b[39mshape[\u001b[38;5;241m0\u001b[39m]\u001b[38;5;132;01m}\u001b[39;00m\u001b[38;5;124m righe.\u001b[39m\u001b[38;5;124m\"\u001b[39m)\n\u001b[1;32m     37\u001b[0m \u001b[38;5;66;03m# Grafico\u001b[39;00m\n\u001b[0;32m---> 38\u001b[0m fig \u001b[38;5;241m=\u001b[39m px\u001b[38;5;241m.\u001b[39mscatter(\n\u001b[1;32m     39\u001b[0m     df,\n\u001b[1;32m     40\u001b[0m     y\u001b[38;5;241m=\u001b[39m\u001b[38;5;124m\"\u001b[39m\u001b[38;5;124mPower_HP\u001b[39m\u001b[38;5;124m\"\u001b[39m,\n\u001b[1;32m     41\u001b[0m     x\u001b[38;5;241m=\u001b[39m\u001b[38;5;124m\"\u001b[39m\u001b[38;5;124mPrice as new\u001b[39m\u001b[38;5;124m\"\u001b[39m,\n\u001b[1;32m     42\u001b[0m     hover_data\u001b[38;5;241m=\u001b[39m[\u001b[38;5;124m\"\u001b[39m\u001b[38;5;124mModel\u001b[39m\u001b[38;5;124m\"\u001b[39m],\n\u001b[1;32m     43\u001b[0m     title\u001b[38;5;241m=\u001b[39m\u001b[38;5;124m\"\u001b[39m\u001b[38;5;124mRelazione tra Potenza (HP) e Prezzo (€)\u001b[39m\u001b[38;5;124m\"\u001b[39m,\n\u001b[1;32m     44\u001b[0m     labels\u001b[38;5;241m=\u001b[39m{\u001b[38;5;124m\"\u001b[39m\u001b[38;5;124mPower_HP\u001b[39m\u001b[38;5;124m\"\u001b[39m: \u001b[38;5;124m\"\u001b[39m\u001b[38;5;124mPotenza (HP)\u001b[39m\u001b[38;5;124m\"\u001b[39m, \u001b[38;5;124m\"\u001b[39m\u001b[38;5;124mPrice_EUR\u001b[39m\u001b[38;5;124m\"\u001b[39m: \u001b[38;5;124m\"\u001b[39m\u001b[38;5;124mPrezzo (€)\u001b[39m\u001b[38;5;124m\"\u001b[39m},\n\u001b[1;32m     45\u001b[0m \n\u001b[1;32m     46\u001b[0m )\n",
      "\u001b[0;31mNameError\u001b[0m: name 'px' is not defined"
     ]
    }
   ],
   "source": [
    "import pandas as pd\n",
    "import json\n",
    "from pathlib import Path\n",
    "\n",
    "# File input/output\n",
    "JSON_PATH = Path(\"raw.json\")\n",
    "\n",
    "# 1. Carica il JSON\n",
    "with open(JSON_PATH, \"r\", encoding=\"utf-8\") as f:\n",
    "    data = json.load(f)\n",
    "\n",
    "# 2. Determina il formato (lista di dict? dict con chiavi?)\n",
    "if isinstance(data, dict):\n",
    "    # E.g., {\"moto1\": {...}, \"moto2\": {...}} → estrai solo i valori\n",
    "    data = list(data.values())\n",
    "elif not isinstance(data, list):\n",
    "    raise ValueError(\"❌ Il file JSON non contiene una lista o dizionario di record\")\n",
    "\n",
    "# 3. Converte in DataFrame\n",
    "df = pd.json_normalize(data)  # gestisce anche annidamenti\n",
    "\n",
    "# 4. Pulizia iniziale\n",
    "df.columns = [col.strip() for col in df.columns]\n",
    "df = df.loc[:, ~df.columns.str.fullmatch(r\"Unnamed:.*|^$\")]  # rimuove colonne anonime\n",
    "df = df.dropna(axis=1, how=\"all\")  # rimuove colonne completamente vuote\n",
    "\n",
    "# 6. (Facoltativo) mostra le prime righe\n",
    "print(\"\\n📌 Anteprima:\")\n",
    "print(df.head())\n",
    "print(\"\\n📌 Funziona? pls\")\n",
    "\n",
    "print(f\"Il dataframe ha {df.shape[1]} colonne.\")\n",
    "print(f\"Il dataframe ha {df.shape[0]} righe.\")\n",
    "\n",
    "import numpy as np\n",
    "import pandas as pd\n",
    "import plotly.express as px\n",
    "import plotly.graph_objects as go\n",
    "from plotly.subplots import make_subplots\n",
    "\n",
    "\n",
    "# Rinomina per semplicità\n",
    "df = df.rename(columns={\n",
    "    \"Power HP\": \"Power_HP\",\n",
    "    \"Price as new Euros\": \"Price_EUR\",\n",
    "    \"Model\": \"Model\"\n",
    "})\n",
    "\n"
   ]
  },
  {
   "cell_type": "code",
   "execution_count": null,
   "id": "543a4a4a-3143-4705-9f7f-79fde446ac7a",
   "metadata": {
    "execution": {
     "iopub.execute_input": "2025-05-11T19:07:08.901112Z",
     "iopub.status.busy": "2025-05-11T19:07:08.899785Z",
     "iopub.status.idle": "2025-05-11T19:07:12.136322Z",
     "shell.execute_reply": "2025-05-11T19:07:12.133224Z",
     "shell.execute_reply.started": "2025-05-11T19:07:08.901014Z"
    }
   },
   "outputs": [
    {
     "name": "stderr",
     "output_type": "stream",
     "text": [
      "/tmp/ipykernel_3890/1151697363.py:7: DtypeWarning: Columns (19,37,38,41,50,51,52,53,56,57,58,59,60,61,62,63,92,93,96,97,98,99,100,102,103,107) have mixed types. Specify dtype option on import or set low_memory=False.\n",
      "  df = pd.read_csv(\"bikes_cleaned_v2.csv\")\n"
     ]
    },
    {
     "data": {
      "text/plain": [
       "Index(['extra_00', 'Model', 'Year', 'Category', 'Power HP',\n",
       "       '0-100 km/h (0-62 mph)', 'Fuel consumption liters/100 km', 'Bore mm',\n",
       "       'Stroke mm', 'Top speed km/h',\n",
       "       ...\n",
       "       'extra_107', 'extra_108', 'extra_109', 'extra_110', 'extra_111',\n",
       "       'extra_112', 'extra_113', 'extra_114', 'extra_115', 'Price as new'],\n",
       "      dtype='object', length=117)"
      ]
     },
     "metadata": {},
     "output_type": "display_data"
    },
    {
     "data": {
      "application/vnd.plotly.v1+json": {
       "config": {
        "plotlyServerURL": "https://plot.ly"
       },
       "data": [
        {
         "customdata": [
          [
           "Ducati Multistrada 950"
          ],
          [
           "Ducati Multistrada 950 S"
          ],
          [
           "Ducati Scrambler 1100 Dark Pro"
          ],
          [
           "Ducati Supersport 950 "
          ],
          [
           "Ducati Supersport 950 S"
          ],
          [
           "Indian Roadmaster Limited"
          ],
          [
           "Indian Springfield"
          ],
          [
           "Indian Vintage"
          ],
          [
           "Indian Vintage Dark Horse"
          ],
          [
           "Ducati Multistrada 950"
          ],
          [
           "Ducati Multistrada 950"
          ],
          [
           "Ducati Multistrada 950 S"
          ],
          [
           "Ducati Multistrada 950 S"
          ],
          [
           "Ducati Supersport S"
          ],
          [
           "Ducati Supersport S"
          ],
          [
           "Honda CRF250L"
          ],
          [
           "Honda CRF250L"
          ],
          [
           "Honda CRF450X"
          ],
          [
           "Honda CRF450X"
          ],
          [
           "Honda Gold Wing Automatic DCT"
          ],
          [
           "Honda Gold Wing Automatic DCT"
          ],
          [
           "Honda Gold Wing Tour Automatic DCT"
          ],
          [
           "Honda Gold Wing Tour Automatic DCT"
          ],
          [
           "Yamaha Super Tenere ES"
          ],
          [
           "Yamaha Super Tenere ES"
          ],
          [
           "Ducati Multistrada 950 "
          ],
          [
           "Ducati Multistrada 950  Spoked Wheels"
          ],
          [
           "Ducati Multistrada 950 S"
          ],
          [
           "Ducati Scrambler 1100"
          ],
          [
           "Ducati Scrambler 1100 Special"
          ],
          [
           "Ducati Scrambler 1100 Sport"
          ],
          [
           "Ducati SuperSport"
          ],
          [
           "Honda CRF250X"
          ],
          [
           "Honda CRF450X"
          ],
          [
           "Honda Gold Wing"
          ],
          [
           "Honda Gold Wing Automatic DCT"
          ],
          [
           "Honda Gold Wing Tour Airbag Automatic DCT"
          ],
          [
           "Honda Gold Wing Tour Automatic DCT"
          ],
          [
           "Yamaha Super Tenere ES"
          ],
          [
           "Ducati Multistrada 950 "
          ],
          [
           "Ducati Scrambler 1100"
          ],
          [
           "Ducati Scrambler 1100 Special"
          ],
          [
           "Ducati Scrambler 1100 Sport"
          ],
          [
           "Ducati SuperSport"
          ],
          [
           "Honda CRF250L"
          ],
          [
           "Honda CRF250L Rally"
          ],
          [
           "Honda CRF250L Rally ABS"
          ],
          [
           "Honda CRF250X"
          ],
          [
           "Honda CRF450X"
          ],
          [
           "Honda Gold Wing"
          ],
          [
           "Honda Gold Wing Automatic DCT"
          ],
          [
           "Honda Gold Wing Tour"
          ],
          [
           "Honda Gold Wing Tour Airbag Automatic DCT"
          ],
          [
           "Honda Gold Wing Tour Automatic DCT"
          ],
          [
           "Yamaha Super Tenere ES"
          ],
          [
           "Ducati Multistrada 950 "
          ],
          [
           "Ducati SuperSport"
          ],
          [
           "Honda CRF150R"
          ],
          [
           "Honda CRF150R Expert"
          ],
          [
           "Honda CRF250L"
          ],
          [
           "Honda CRF250L ABS"
          ],
          [
           "Honda CRF250L Rally"
          ],
          [
           "Honda CRF250L Rally ABS"
          ],
          [
           "Honda CRF250X"
          ],
          [
           "Honda CRF450X"
          ],
          [
           "Romet ZXT 125"
          ],
          [
           "Honda CRF150R"
          ],
          [
           "Honda CRF250L"
          ],
          [
           "Honda CRF250X"
          ],
          [
           "Honda CRF450X"
          ],
          [
           "Honda Gold Wing Airbag"
          ],
          [
           "Keeway Hurricane 50 2T"
          ],
          [
           "Motors Europe MX2"
          ],
          [
           "Motors Europe MX3"
          ],
          [
           "Motowell Gamini 50"
          ],
          [
           "Peugeot Vogue 50"
          ],
          [
           "Confederate X132 Hellcat Speedster"
          ],
          [
           "Ducati Monster 795"
          ],
          [
           "Ducati Monster 795 ABS"
          ],
          [
           "Ducati Monster 796 Corse Stripe"
          ],
          [
           "Ducati Scrambler Classic"
          ],
          [
           "Ducati Scrambler Icon"
          ],
          [
           "Ducati Scrambler Mr Martini"
          ],
          [
           "Ducati Scrambler Officine Mermaid"
          ],
          [
           "Honda CRF150R Expert"
          ],
          [
           "Honda CRF150R II"
          ],
          [
           "Honda CRF250L"
          ],
          [
           "Honda Silver Wing"
          ],
          [
           "BMW F 700 GS"
          ],
          [
           "Confederate X132 Hellcat Combat"
          ],
          [
           "Ducati Monster 696"
          ],
          [
           "Ducati Monster 795"
          ],
          [
           "Ducati Monster 796"
          ],
          [
           "Ducati Monster 796 Corse Stripe"
          ],
          [
           "Honda CRF250L"
          ],
          [
           "MV Agusta Brutale 1090"
          ],
          [
           "MV Agusta Brutale 1090 R"
          ],
          [
           "MV Agusta Brutale 1090 RR"
          ],
          [
           "BMW HP4"
          ],
          [
           "Confederate X132 Hellcat Combat"
          ],
          [
           "Ducati Monster 1100 EVO"
          ],
          [
           "Ducati Monster 696"
          ],
          [
           "Ducati Monster 696 20th Anniversary"
          ],
          [
           "Ducati Monster 795"
          ],
          [
           "Ducati Monster 795 ABS"
          ],
          [
           "Ducati Monster 796"
          ],
          [
           "Ducati Monster 796 20th Anniversary"
          ],
          [
           "Ducati Monster Diesel"
          ],
          [
           "Honda CRF150RII"
          ],
          [
           "MV Agusta Brutale 1090"
          ],
          [
           "MV Agusta Brutale 1090 R"
          ],
          [
           "MV Agusta Brutale 1090 RR"
          ],
          [
           "Enfield Bullet B5 "
          ],
          [
           "MV Agusta Brutale R 1090"
          ],
          [
           "MV Agusta Brutale RR 1090"
          ],
          [
           "MV Agusta Brutale RR 1090 America"
          ],
          [
           "Moto Guzzi California 90 Anniversary"
          ],
          [
           "Peugeot Vogue 50"
          ],
          [
           "Acabion GTBO 600 Daytona-VI"
          ],
          [
           "Ducati Monster 696"
          ],
          [
           "Ducati Monster 796"
          ],
          [
           "Ducati Streetfighter"
          ],
          [
           "Ducati Streetfighter S"
          ],
          [
           "Ducati Superbike 848 Evo"
          ],
          [
           "Enfield Bullet C5 Military"
          ],
          [
           "Enfield Bullet Electra Deluxe"
          ],
          [
           "Tauris Matador 125"
          ],
          [
           "Ural Solo"
          ],
          [
           "Buell 1125R"
          ],
          [
           "Confederate P120 Fighter Combat"
          ],
          [
           "MV Agusta Brutale 1078RR"
          ],
          [
           "MV Agusta Brutale 1090RR"
          ],
          [
           "MV Agusta Brutale 910S"
          ],
          [
           "MV Agusta F4 1000 R"
          ],
          [
           "Moto Morini 9 1-2"
          ],
          [
           "Peugeot V-Clic 50"
          ],
          [
           "Buell 1125R"
          ],
          [
           "Buell Lightning Long XB12Ss"
          ],
          [
           "Buell Lightning XB12Scg"
          ],
          [
           "Buell Ulysses XB12XT"
          ],
          [
           "Moto Morini 9 1-2"
          ],
          [
           "Benelli Titanium 07"
          ],
          [
           "Ghezzi-Brian Furia S"
          ],
          [
           "Ghezzi-Brian Furia Titanum"
          ],
          [
           "Moto Morini 9 1-2"
          ],
          [
           "Peugeot Vogue 50"
          ],
          [
           "Confederate Wraith B 120"
          ],
          [
           "Hero Honda Gizmo"
          ],
          [
           "Keeway Hurricane 50"
          ],
          [
           "Fantic Caballero"
          ],
          [
           "Fantic Caballero"
          ],
          [
           "Suzuki RG 400 Gamma"
          ],
          [
           "Zündapp KS 50 Super Sport type 517-20"
          ],
          [
           "Zündapp KS 50 Super Sport type 517-20"
          ]
         ],
         "hovertemplate": "Price as new=%{x}<br>Potenza (HP)=%{y}<br>Model=%{customdata[0]}<extra></extra>",
         "legendgroup": "",
         "marker": {
          "color": "#636efa",
          "symbol": "circle"
         },
         "mode": "markers",
         "name": "",
         "orientation": "v",
         "showlegend": false,
         "type": "scatter",
         "x": [
          9000,
          9000,
          7500,
          9000,
          9000,
          30749,
          21999,
          20499,
          19499,
          9000,
          9000,
          9000,
          9000,
          9000,
          9000,
          5199,
          5199,
          9799,
          9799,
          25000,
          25000,
          32300,
          32300,
          16299,
          16299,
          9000,
          9000,
          9000,
          7500,
          14290,
          14990,
          9000,
          7599,
          9799,
          23800,
          25000,
          31800,
          28000,
          16199,
          9000,
          7500,
          7500,
          7500,
          9000,
          5149,
          5899,
          6199,
          7599,
          8699,
          23500,
          24700,
          24700,
          31500,
          27700,
          16199,
          9000,
          9000,
          4990,
          5140,
          5099,
          5399,
          5899,
          6199,
          7410,
          8440,
          2030,
          4999,
          4999,
          7410,
          8440,
          30599,
          7250,
          1280,
          1280,
          7500,
          1690,
          69000,
          8250,
          8250,
          8250,
          8250,
          8250,
          8250,
          8250,
          5140,
          5100,
          4999,
          9270,
          7300,
          55000,
          8250,
          8250,
          8250,
          8250,
          4999,
          14000,
          15010,
          17940,
          20525,
          7200,
          7500,
          9000,
          9000,
          8250,
          8250,
          8250,
          8250,
          7500,
          4990,
          12990,
          13990,
          16990,
          5999,
          13990,
          18800,
          18800,
          15990,
          1720,
          5250,
          8495,
          9995,
          14995,
          18995,
          12995,
          6395,
          6095,
          8600,
          5600,
          12499,
          1626,
          16995,
          18000,
          14495,
          12900,
          8500,
          1660,
          11995,
          9995,
          9995,
          12995,
          8500,
          9250,
          8250,
          8250,
          8500,
          1690,
          1966,
          2006,
          7500,
          8000,
          8000,
          9000,
          8400,
          8400
         ],
         "xaxis": "x",
         "y": [
          113,
          113,
          86,
          110,
          110,
          92,
          92,
          92,
          92,
          113,
          113,
          113,
          113,
          110,
          110,
          22.8,
          22.8,
          44.5,
          44.5,
          118,
          118,
          118,
          118,
          112,
          112,
          113,
          113,
          113,
          84.5,
          86,
          84.5,
          110,
          29.4,
          44.5,
          118,
          118,
          118,
          118,
          112,
          113,
          84.5,
          84.5,
          84.5,
          110,
          22.8,
          22.8,
          22.8,
          29.4,
          44.5,
          118,
          118,
          118,
          118,
          118,
          112,
          160,
          113,
          23.5,
          23.5,
          22.8,
          22.8,
          22.8,
          22.8,
          29.4,
          44.5,
          13.2,
          23.5,
          22.8,
          29.4,
          44.5,
          116.7,
          2.9,
          10,
          10,
          3,
          2.7,
          120,
          85.8,
          85.8,
          87,
          73.8,
          75,
          73.8,
          73.8,
          24.5,
          24.5,
          22.8,
          49.6,
          75,
          132,
          87,
          85.8,
          87,
          87,
          22.8,
          142,
          142,
          158,
          193,
          160,
          98.6,
          78.9,
          78.9,
          85.8,
          85.8,
          85.8,
          85.8,
          98.6,
          23.5,
          142,
          142,
          158,
          27.5,
          142,
          158,
          158,
          74,
          2.7,
          536.4,
          78.9,
          85.8,
          155,
          155,
          140,
          27.2,
          27.5,
          11.5,
          38.9,
          146,
          160,
          154,
          144.2,
          139,
          186,
          115.3,
          2.9,
          146,
          103,
          103,
          103,
          115.3,
          135.4,
          87,
          87,
          115.3,
          2.3,
          130,
          4.6,
          3.9,
          10.7,
          10.7,
          59,
          6,
          6
         ],
         "yaxis": "y"
        }
       ],
       "layout": {
        "legend": {
         "tracegroupgap": 0
        },
        "template": {
         "data": {
          "bar": [
           {
            "error_x": {
             "color": "#2a3f5f"
            },
            "error_y": {
             "color": "#2a3f5f"
            },
            "marker": {
             "line": {
              "color": "#E5ECF6",
              "width": 0.5
             },
             "pattern": {
              "fillmode": "overlay",
              "size": 10,
              "solidity": 0.2
             }
            },
            "type": "bar"
           }
          ],
          "barpolar": [
           {
            "marker": {
             "line": {
              "color": "#E5ECF6",
              "width": 0.5
             },
             "pattern": {
              "fillmode": "overlay",
              "size": 10,
              "solidity": 0.2
             }
            },
            "type": "barpolar"
           }
          ],
          "carpet": [
           {
            "aaxis": {
             "endlinecolor": "#2a3f5f",
             "gridcolor": "white",
             "linecolor": "white",
             "minorgridcolor": "white",
             "startlinecolor": "#2a3f5f"
            },
            "baxis": {
             "endlinecolor": "#2a3f5f",
             "gridcolor": "white",
             "linecolor": "white",
             "minorgridcolor": "white",
             "startlinecolor": "#2a3f5f"
            },
            "type": "carpet"
           }
          ],
          "choropleth": [
           {
            "colorbar": {
             "outlinewidth": 0,
             "ticks": ""
            },
            "type": "choropleth"
           }
          ],
          "contour": [
           {
            "colorbar": {
             "outlinewidth": 0,
             "ticks": ""
            },
            "colorscale": [
             [
              0,
              "#0d0887"
             ],
             [
              0.1111111111111111,
              "#46039f"
             ],
             [
              0.2222222222222222,
              "#7201a8"
             ],
             [
              0.3333333333333333,
              "#9c179e"
             ],
             [
              0.4444444444444444,
              "#bd3786"
             ],
             [
              0.5555555555555556,
              "#d8576b"
             ],
             [
              0.6666666666666666,
              "#ed7953"
             ],
             [
              0.7777777777777778,
              "#fb9f3a"
             ],
             [
              0.8888888888888888,
              "#fdca26"
             ],
             [
              1,
              "#f0f921"
             ]
            ],
            "type": "contour"
           }
          ],
          "contourcarpet": [
           {
            "colorbar": {
             "outlinewidth": 0,
             "ticks": ""
            },
            "type": "contourcarpet"
           }
          ],
          "heatmap": [
           {
            "colorbar": {
             "outlinewidth": 0,
             "ticks": ""
            },
            "colorscale": [
             [
              0,
              "#0d0887"
             ],
             [
              0.1111111111111111,
              "#46039f"
             ],
             [
              0.2222222222222222,
              "#7201a8"
             ],
             [
              0.3333333333333333,
              "#9c179e"
             ],
             [
              0.4444444444444444,
              "#bd3786"
             ],
             [
              0.5555555555555556,
              "#d8576b"
             ],
             [
              0.6666666666666666,
              "#ed7953"
             ],
             [
              0.7777777777777778,
              "#fb9f3a"
             ],
             [
              0.8888888888888888,
              "#fdca26"
             ],
             [
              1,
              "#f0f921"
             ]
            ],
            "type": "heatmap"
           }
          ],
          "heatmapgl": [
           {
            "colorbar": {
             "outlinewidth": 0,
             "ticks": ""
            },
            "colorscale": [
             [
              0,
              "#0d0887"
             ],
             [
              0.1111111111111111,
              "#46039f"
             ],
             [
              0.2222222222222222,
              "#7201a8"
             ],
             [
              0.3333333333333333,
              "#9c179e"
             ],
             [
              0.4444444444444444,
              "#bd3786"
             ],
             [
              0.5555555555555556,
              "#d8576b"
             ],
             [
              0.6666666666666666,
              "#ed7953"
             ],
             [
              0.7777777777777778,
              "#fb9f3a"
             ],
             [
              0.8888888888888888,
              "#fdca26"
             ],
             [
              1,
              "#f0f921"
             ]
            ],
            "type": "heatmapgl"
           }
          ],
          "histogram": [
           {
            "marker": {
             "pattern": {
              "fillmode": "overlay",
              "size": 10,
              "solidity": 0.2
             }
            },
            "type": "histogram"
           }
          ],
          "histogram2d": [
           {
            "colorbar": {
             "outlinewidth": 0,
             "ticks": ""
            },
            "colorscale": [
             [
              0,
              "#0d0887"
             ],
             [
              0.1111111111111111,
              "#46039f"
             ],
             [
              0.2222222222222222,
              "#7201a8"
             ],
             [
              0.3333333333333333,
              "#9c179e"
             ],
             [
              0.4444444444444444,
              "#bd3786"
             ],
             [
              0.5555555555555556,
              "#d8576b"
             ],
             [
              0.6666666666666666,
              "#ed7953"
             ],
             [
              0.7777777777777778,
              "#fb9f3a"
             ],
             [
              0.8888888888888888,
              "#fdca26"
             ],
             [
              1,
              "#f0f921"
             ]
            ],
            "type": "histogram2d"
           }
          ],
          "histogram2dcontour": [
           {
            "colorbar": {
             "outlinewidth": 0,
             "ticks": ""
            },
            "colorscale": [
             [
              0,
              "#0d0887"
             ],
             [
              0.1111111111111111,
              "#46039f"
             ],
             [
              0.2222222222222222,
              "#7201a8"
             ],
             [
              0.3333333333333333,
              "#9c179e"
             ],
             [
              0.4444444444444444,
              "#bd3786"
             ],
             [
              0.5555555555555556,
              "#d8576b"
             ],
             [
              0.6666666666666666,
              "#ed7953"
             ],
             [
              0.7777777777777778,
              "#fb9f3a"
             ],
             [
              0.8888888888888888,
              "#fdca26"
             ],
             [
              1,
              "#f0f921"
             ]
            ],
            "type": "histogram2dcontour"
           }
          ],
          "mesh3d": [
           {
            "colorbar": {
             "outlinewidth": 0,
             "ticks": ""
            },
            "type": "mesh3d"
           }
          ],
          "parcoords": [
           {
            "line": {
             "colorbar": {
              "outlinewidth": 0,
              "ticks": ""
             }
            },
            "type": "parcoords"
           }
          ],
          "pie": [
           {
            "automargin": true,
            "type": "pie"
           }
          ],
          "scatter": [
           {
            "fillpattern": {
             "fillmode": "overlay",
             "size": 10,
             "solidity": 0.2
            },
            "type": "scatter"
           }
          ],
          "scatter3d": [
           {
            "line": {
             "colorbar": {
              "outlinewidth": 0,
              "ticks": ""
             }
            },
            "marker": {
             "colorbar": {
              "outlinewidth": 0,
              "ticks": ""
             }
            },
            "type": "scatter3d"
           }
          ],
          "scattercarpet": [
           {
            "marker": {
             "colorbar": {
              "outlinewidth": 0,
              "ticks": ""
             }
            },
            "type": "scattercarpet"
           }
          ],
          "scattergeo": [
           {
            "marker": {
             "colorbar": {
              "outlinewidth": 0,
              "ticks": ""
             }
            },
            "type": "scattergeo"
           }
          ],
          "scattergl": [
           {
            "marker": {
             "colorbar": {
              "outlinewidth": 0,
              "ticks": ""
             }
            },
            "type": "scattergl"
           }
          ],
          "scattermapbox": [
           {
            "marker": {
             "colorbar": {
              "outlinewidth": 0,
              "ticks": ""
             }
            },
            "type": "scattermapbox"
           }
          ],
          "scatterpolar": [
           {
            "marker": {
             "colorbar": {
              "outlinewidth": 0,
              "ticks": ""
             }
            },
            "type": "scatterpolar"
           }
          ],
          "scatterpolargl": [
           {
            "marker": {
             "colorbar": {
              "outlinewidth": 0,
              "ticks": ""
             }
            },
            "type": "scatterpolargl"
           }
          ],
          "scatterternary": [
           {
            "marker": {
             "colorbar": {
              "outlinewidth": 0,
              "ticks": ""
             }
            },
            "type": "scatterternary"
           }
          ],
          "surface": [
           {
            "colorbar": {
             "outlinewidth": 0,
             "ticks": ""
            },
            "colorscale": [
             [
              0,
              "#0d0887"
             ],
             [
              0.1111111111111111,
              "#46039f"
             ],
             [
              0.2222222222222222,
              "#7201a8"
             ],
             [
              0.3333333333333333,
              "#9c179e"
             ],
             [
              0.4444444444444444,
              "#bd3786"
             ],
             [
              0.5555555555555556,
              "#d8576b"
             ],
             [
              0.6666666666666666,
              "#ed7953"
             ],
             [
              0.7777777777777778,
              "#fb9f3a"
             ],
             [
              0.8888888888888888,
              "#fdca26"
             ],
             [
              1,
              "#f0f921"
             ]
            ],
            "type": "surface"
           }
          ],
          "table": [
           {
            "cells": {
             "fill": {
              "color": "#EBF0F8"
             },
             "line": {
              "color": "white"
             }
            },
            "header": {
             "fill": {
              "color": "#C8D4E3"
             },
             "line": {
              "color": "white"
             }
            },
            "type": "table"
           }
          ]
         },
         "layout": {
          "annotationdefaults": {
           "arrowcolor": "#2a3f5f",
           "arrowhead": 0,
           "arrowwidth": 1
          },
          "autotypenumbers": "strict",
          "coloraxis": {
           "colorbar": {
            "outlinewidth": 0,
            "ticks": ""
           }
          },
          "colorscale": {
           "diverging": [
            [
             0,
             "#8e0152"
            ],
            [
             0.1,
             "#c51b7d"
            ],
            [
             0.2,
             "#de77ae"
            ],
            [
             0.3,
             "#f1b6da"
            ],
            [
             0.4,
             "#fde0ef"
            ],
            [
             0.5,
             "#f7f7f7"
            ],
            [
             0.6,
             "#e6f5d0"
            ],
            [
             0.7,
             "#b8e186"
            ],
            [
             0.8,
             "#7fbc41"
            ],
            [
             0.9,
             "#4d9221"
            ],
            [
             1,
             "#276419"
            ]
           ],
           "sequential": [
            [
             0,
             "#0d0887"
            ],
            [
             0.1111111111111111,
             "#46039f"
            ],
            [
             0.2222222222222222,
             "#7201a8"
            ],
            [
             0.3333333333333333,
             "#9c179e"
            ],
            [
             0.4444444444444444,
             "#bd3786"
            ],
            [
             0.5555555555555556,
             "#d8576b"
            ],
            [
             0.6666666666666666,
             "#ed7953"
            ],
            [
             0.7777777777777778,
             "#fb9f3a"
            ],
            [
             0.8888888888888888,
             "#fdca26"
            ],
            [
             1,
             "#f0f921"
            ]
           ],
           "sequentialminus": [
            [
             0,
             "#0d0887"
            ],
            [
             0.1111111111111111,
             "#46039f"
            ],
            [
             0.2222222222222222,
             "#7201a8"
            ],
            [
             0.3333333333333333,
             "#9c179e"
            ],
            [
             0.4444444444444444,
             "#bd3786"
            ],
            [
             0.5555555555555556,
             "#d8576b"
            ],
            [
             0.6666666666666666,
             "#ed7953"
            ],
            [
             0.7777777777777778,
             "#fb9f3a"
            ],
            [
             0.8888888888888888,
             "#fdca26"
            ],
            [
             1,
             "#f0f921"
            ]
           ]
          },
          "colorway": [
           "#636efa",
           "#EF553B",
           "#00cc96",
           "#ab63fa",
           "#FFA15A",
           "#19d3f3",
           "#FF6692",
           "#B6E880",
           "#FF97FF",
           "#FECB52"
          ],
          "font": {
           "color": "#2a3f5f"
          },
          "geo": {
           "bgcolor": "white",
           "lakecolor": "white",
           "landcolor": "#E5ECF6",
           "showlakes": true,
           "showland": true,
           "subunitcolor": "white"
          },
          "hoverlabel": {
           "align": "left"
          },
          "hovermode": "closest",
          "mapbox": {
           "style": "light"
          },
          "paper_bgcolor": "white",
          "plot_bgcolor": "#E5ECF6",
          "polar": {
           "angularaxis": {
            "gridcolor": "white",
            "linecolor": "white",
            "ticks": ""
           },
           "bgcolor": "#E5ECF6",
           "radialaxis": {
            "gridcolor": "white",
            "linecolor": "white",
            "ticks": ""
           }
          },
          "scene": {
           "xaxis": {
            "backgroundcolor": "#E5ECF6",
            "gridcolor": "white",
            "gridwidth": 2,
            "linecolor": "white",
            "showbackground": true,
            "ticks": "",
            "zerolinecolor": "white"
           },
           "yaxis": {
            "backgroundcolor": "#E5ECF6",
            "gridcolor": "white",
            "gridwidth": 2,
            "linecolor": "white",
            "showbackground": true,
            "ticks": "",
            "zerolinecolor": "white"
           },
           "zaxis": {
            "backgroundcolor": "#E5ECF6",
            "gridcolor": "white",
            "gridwidth": 2,
            "linecolor": "white",
            "showbackground": true,
            "ticks": "",
            "zerolinecolor": "white"
           }
          },
          "shapedefaults": {
           "line": {
            "color": "#2a3f5f"
           }
          },
          "ternary": {
           "aaxis": {
            "gridcolor": "white",
            "linecolor": "white",
            "ticks": ""
           },
           "baxis": {
            "gridcolor": "white",
            "linecolor": "white",
            "ticks": ""
           },
           "bgcolor": "#E5ECF6",
           "caxis": {
            "gridcolor": "white",
            "linecolor": "white",
            "ticks": ""
           }
          },
          "title": {
           "x": 0.05
          },
          "xaxis": {
           "automargin": true,
           "gridcolor": "white",
           "linecolor": "white",
           "ticks": "",
           "title": {
            "standoff": 15
           },
           "zerolinecolor": "white",
           "zerolinewidth": 2
          },
          "yaxis": {
           "automargin": true,
           "gridcolor": "white",
           "linecolor": "white",
           "ticks": "",
           "title": {
            "standoff": 15
           },
           "zerolinecolor": "white",
           "zerolinewidth": 2
          }
         }
        },
        "title": {
         "text": "Relazione tra Potenza (HP) e Prezzo (€)"
        },
        "xaxis": {
         "anchor": "y",
         "domain": [
          0,
          1
         ],
         "title": {
          "text": "Price as new"
         }
        },
        "yaxis": {
         "anchor": "x",
         "domain": [
          0,
          1
         ],
         "title": {
          "text": "Potenza (HP)"
         }
        }
       }
      }
     },
     "metadata": {},
     "output_type": "display_data"
    }
   ],
   "source": []
  }
 ],
 "metadata": {
  "kernelspec": {
   "display_name": "base",
   "language": "python",
   "name": "python3"
  },
  "language_info": {
   "codemirror_mode": {
    "name": "ipython",
    "version": 3
   },
   "file_extension": ".py",
   "mimetype": "text/x-python",
   "name": "python",
   "nbconvert_exporter": "python",
   "pygments_lexer": "ipython3",
   "version": "3.12.7"
  }
 },
 "nbformat": 4,
 "nbformat_minor": 5
}
